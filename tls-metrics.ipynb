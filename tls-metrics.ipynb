{
 "cells": [
  {
   "cell_type": "markdown",
   "id": "5b5c219c-7a95-44f3-b2fd-28d563d1decd",
   "metadata": {},
   "source": [
    "<div style=\"display: flex; justify-content: space-between; align-items: center; margin-bottom: 40px; margin-top: 0;\">\n",
    "    <div style=\"flex: 0 0 auto; margin-left: 0; margin-bottom: 0; margin-top: 0;\">\n",
    "        <img src=\"./pics/UCSD Logo.png\" alt=\"UCSD Logo\" style=\"width: 179px; margin-bottom: 0px; margin-top: 20px;\">\n",
    "    </div>\n",
    "    <div style=\"flex: 0 0 auto; margin-left: auto; margin-bottom: 0; margin-top: 20px;\">\n",
    "        <img src=\"./pics/LANL-logo.png\" alt=\"LANL Logo\" style=\"width: 200px; margin-bottom: 0px;\">\n",
    "    </div>\n",
    "    <div style=\"flex: 0 0 auto; margin-left: auto; margin-bottom: 0; margin-top: 20px;\">\n",
    "        <img src=\"./pics/prowess.png\" alt=\"Prowess Logo\" style=\"width: 200px; margin-bottom: 0px;\">\n",
    "    </div>\n",
    "    <div style=\"flex: 0 0 auto; margin-left: auto; margin-bottom: 0; margin-top: 20px;\">\n",
    "        <img src=\"./pics/wildfire.png\" alt=\"WildFire Logo\" width=\"100\"/>\n",
    "    </div>\n",
    "</div>\n",
    "\n",
    "<h1 style=\"text-align: center; font-size: 48px; margin-top: 0;\">Fire-Ready Forests Data Challenge</h1>"
   ]
  },
  {
   "cell_type": "markdown",
   "id": "4eb1df82-cac3-4c25-97a3-677b3e500430",
   "metadata": {},
   "source": [
    "# Sprint 3: TLS Generated Metrics\n",
    "\n",
    "In Sprint 1, you worked with TLS data, exploring its format, size, and extracting a sample to create a small visualization. You also looked at a simple approach to process this data.\n",
    "\n",
    "TLS has the potential to provide accurate and efficient data on forest conditions, including forest structure, vegetation, and fuel loads. As Pokswinski et al. state:\n",
    "\n",
    "> *The integration of Terrestrial Laser Scanning (TLS) methods into forest monitoring strategies can cost effectively standardize data collection, improve efficiency, and reduce error, with datasets that can easily be analyzed to better inform management decisions.<sup>1</sup>*\n",
    "\n",
    "In this notebook, we will present metrics derived from TLS data. Our goal is to expose you to these metrics and think about how this information can be incorporated into your workflow. We will not delve into the technical details of how each metric is produced.\n",
    "\n",
    "For those interested in learning more about TLS data collection, applications, and processing, please refer to the documents included in the references.\n",
    "\n",
    "## IntELiMon \n",
    "\n",
    "The [Interagency Ecosystem LiDAR Monitoring (IntELiMon)](https://dmsdata.cr.usgs.gov/lidar-monitoring/viewer/) is a dashboard for users to access the processed TLS data, metadata, and the results of the processing and analyses. Quality control/quality assurance and metadata management is built into the data workflow.<sup>2</sup>\n",
    "\n",
    "IntELiMon offers a series of metrics for each of the available plots. These metrics have been [registered in the NDP catalog](https://nationaldataplatform.org/dataset/intelimon-point-cloud-metrics-for-uc-climate-action-seed-project-scaling-science-driven-vegetat) and are presented to you in the following cell."
   ]
  },
  {
   "cell_type": "code",
   "execution_count": null,
   "id": "522cb078-f207-451b-affb-343a4f67f068",
   "metadata": {},
   "outputs": [],
   "source": [
    "# Import packages\n",
    "import pandas as pd\n",
    "import matplotlib.pyplot as plt"
   ]
  },
  {
   "cell_type": "code",
   "execution_count": null,
   "id": "6204165e-aae8-4418-9a28-29e7cd96b523",
   "metadata": {},
   "outputs": [],
   "source": [
    "# Loading the metrics\n",
    "metrics = pd.read_csv(\"https://wifire-data.sdsc.edu/data/ndp/Data_challenge_2024/new_data/Derived%20TLS%20and%20Tree%20List/metrics/combined_intelimon_metrics.csv\")\n",
    "metrics"
   ]
  },
  {
   "cell_type": "markdown",
   "id": "c1954cc1-72d2-42df-803a-12fadb144583",
   "metadata": {},
   "source": [
    "As we can observe, there is a lot of information that ha. A complementary document describing each of these metrics is also provided."
   ]
  },
  {
   "cell_type": "code",
   "execution_count": null,
   "id": "7b9557e0-13dd-4f90-86e6-7bb514c38aa0",
   "metadata": {},
   "outputs": [],
   "source": [
    "# Loading metrics columns descriptions\n",
    "metrics_columns = pd.read_csv(\"https://wifire-data.sdsc.edu/data/ndp/Data_challenge_2024/new_data/Derived%20TLS%20and%20Tree%20List/metrics/IntELiMon_metrics_table_descriptions.csv\").iloc[:, :6]\n",
    "metrics_columns.head()"
   ]
  },
  {
   "cell_type": "markdown",
   "id": "460a3cf4-8953-472b-b5e5-2a426d3bbd1e",
   "metadata": {},
   "source": [
    "## Points2Pano\n",
    "\n",
    "[Points2Pano](https://burnpro3d.sdsc.edu/points2pano/?plot=GAPDR_1071&ts=20220608&m=Basalarea) is an Immersive Forest tool by UCSDs [WIFIRE](https://wifire.ucsd.edu/) lab. RGB colored point clouds submitted to IntELiMon are projected into a spherical raster and displayed on the Points2Pano website. Plots can be viewed by scan date and qualitative comparisons can be made.<sup>2</sup>\n",
    "\n",
    "You're encouraged to explore this platform."
   ]
  },
  {
   "cell_type": "markdown",
   "id": "cc52999d-4337-49b1-9d0b-e3546102e92f",
   "metadata": {},
   "source": [
    "## TLS Trees vs Field Collected Data\n",
    "\n",
    "As seen in Points2Pano, TLS can identify trees within a specific range and extract valuable information. In Sprint 1, you were introduced to a treelist collected by a professional team at the UC Climate Action Seed Project study sites. Now, we have a TLS-derived treelist for these same locations.\n",
    "\n",
    "In the following cells, we will compare tree inventories generated from TLS with field-collected data for the same plots."
   ]
  },
  {
   "cell_type": "code",
   "execution_count": null,
   "id": "6407de24-9ebc-4880-8a9a-c0d1fc33b17d",
   "metadata": {},
   "outputs": [],
   "source": [
    "# Loading the full plots inventory\n",
    "plot_inventory = pd.read_csv(\"https://wifire-data.sdsc.edu/data/ndp/Data_challenge_2024/new_data/field_data/01_plot_identification.csv\")\n",
    "\n",
    "# Specify our site of interest\n",
    "site_name = \"ind\"\n",
    "\n",
    "# We only keep the inventory plots for Independence Lake\n",
    "ind_inventory = plot_inventory.loc[plot_inventory.site_name == site_name, ['inventory_id', 'plot_blk']]\n",
    "ind_inventory"
   ]
  },
  {
   "cell_type": "markdown",
   "id": "5ceb04b8-daf8-4afc-b9c2-d5ff051e7b48",
   "metadata": {},
   "source": [
    "There are a total of 21 blocks associated with Independence Lake. However, for this analysis, we will focus on the first five blocks. We will extract tree data corresponding to these selected plots from both the TLS Treelist and the field-observed dataset."
   ]
  },
  {
   "cell_type": "code",
   "execution_count": null,
   "id": "1bdfc3b0-c18e-46c9-823d-670dab177464",
   "metadata": {},
   "outputs": [],
   "source": [
    "# We sample the first 5 plots\n",
    "ind_sample = ind_inventory.head()\n",
    "\n",
    "# Load both the TLS and the field collected treelist\n",
    "tls_treelist = pd.read_csv(\"https://wifire-data.sdsc.edu/data/ndp/Data_challenge_2024/new_data/Derived%20TLS%20and%20Tree%20List/TLS_treelist.csv\")\n",
    "field_treelist = pd.read_csv(\"https://wifire-data.sdsc.edu/data/ndp/Data_challenge_2024/new_data/field_data/03_tree.csv\")\n",
    "\n",
    "# Filter tls_treelist based on plot_blk in ind_sample\n",
    "tls_treelist_ind = tls_treelist.merge(ind_sample[['plot_blk']], on='plot_blk', how='inner')\n",
    "\n",
    "# Filter field_treelist based on inventory_id in ind_sample\n",
    "field_treelist_ind = field_treelist.merge(ind_sample[['inventory_id']], on='inventory_id', how='inner')\n"
   ]
  },
  {
   "cell_type": "markdown",
   "id": "8c5b5cb5-3e1c-48fd-826f-c2da62167cc9",
   "metadata": {},
   "source": [
    "Now, let's compare the trees from source to the other. Theorically, they are both representing the same sites."
   ]
  },
  {
   "cell_type": "code",
   "execution_count": null,
   "id": "620122fc-f2af-40ec-a511-971a15296449",
   "metadata": {},
   "outputs": [],
   "source": [
    "# Plot trees from both sources\n",
    "fig, ax = plt.subplots()\n",
    "plt.scatter(tls_treelist_ind.H, tls_treelist_ind.DBH/2.54, axes = ax, label = 'TLS')\n",
    "plt.scatter(field_treelist_ind.tree_ht, field_treelist_ind.tree_dbh/10, axes = ax, marker = '.',label= 'Field')\n",
    "plt.xlabel('Height (m)')\n",
    "plt.ylabel('DBH (cm)')\n",
    "plt.legend()\n",
    "plt.title('TLS vs Field Data')"
   ]
  },
  {
   "cell_type": "markdown",
   "id": "75dc24d8-83f9-4ad4-8134-fc858ff58a68",
   "metadata": {},
   "source": [
    "As you can observe, even when both data sources represent the same sites, the tree inventories they provide can differ significantly."
   ]
  },
  {
   "cell_type": "markdown",
   "id": "0a1c27ab-e490-4fdc-a0cd-a9c299ffd554",
   "metadata": {},
   "source": [
    "### References\n",
    "\n",
    "1. [A simplified and affordable approach to forest monitoring using single terrestrial laser scans and transect sampling.](https://www.sciencedirect.com/science/article/pii/S2215016121002776) Scott Pokswinski, Michael R. Gallagher, Nicholas S. Skowronski, E. Louise Loudermilk, Christie Hawley, Derek Wallace, Alexis Everland, Jon Wallace, J. Kevin Hiers, MethodsX, 2021.\n",
    "2. [Interagence LiDAR Monitoring and Research Applications - Applications](https://dmsdata.cr.usgs.gov/lidar-monitoring/applications)\n",
    "3. [Traditional field metrics and terrestrial LiDAR predict plant richness in southern pine forests.](https://www.sciencedirect.com/science/article/pii/S0378112721002073?via%3Dihub)  C.T. Anderson, S.L. Dietz, S.M. Pokswinski, A.M. Jenkins, M.J. Kaeser, J.K. Hiers, B.D. Pelc, Forest Ecology and Management, 2021.\n",
    "4. [Terrestrial laser scan metrics predict surface vegetation biomass and consumption in a frequently burned southeastern U.S. ecosystem.](https://research.fs.usda.gov/treesearch/66840) E. Louise Loudermilk, Scott Pokswinski, Christie M. Hawley, Aaron Maxwell, Michael Gallagher, Nicholas Skowronski, Andrew T. Hudak, Chad Hoffman, J. Kevin Hiers, bioRxiv, 2023 "
   ]
  }
 ],
 "metadata": {
  "kernelspec": {
   "display_name": "Python 3 (ipykernel)",
   "language": "python",
   "name": "python3"
  },
  "language_info": {
   "codemirror_mode": {
    "name": "ipython",
    "version": 3
   },
   "file_extension": ".py",
   "mimetype": "text/x-python",
   "name": "python",
   "nbconvert_exporter": "python",
   "pygments_lexer": "ipython3",
   "version": "3.11.9"
  }
 },
 "nbformat": 4,
 "nbformat_minor": 5
}
