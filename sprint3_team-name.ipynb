{
 "cells": [
  {
   "cell_type": "markdown",
   "id": "4bf85161-3c2b-4059-8179-ebfe1308ff02",
   "metadata": {},
   "source": [
    "<div style=\"display: flex; justify-content: space-between; align-items: center; margin-bottom: 40px; margin-top: 0;\">\n",
    "    <div style=\"flex: 0 0 auto; margin-left: 0; margin-bottom: 0; margin-top: 0;\">\n",
    "        <img src=\"./pics/UCSD Logo.png\" alt=\"UCSD Logo\" style=\"width: 179px; margin-bottom: 0px; margin-top: 20px;\">\n",
    "    </div>\n",
    "    <div style=\"flex: 0 0 auto; margin-left: auto; margin-bottom: 0; margin-top: 20px;\">\n",
    "        <img src=\"./pics/LANL-logo.png\" alt=\"LANL Logo\" style=\"width: 200px; margin-bottom: 0px;\">\n",
    "    </div>\n",
    "    <div style=\"flex: 0 0 auto; margin-left: auto; margin-bottom: 0; margin-top: 20px;\">\n",
    "        <img src=\"./pics/prowess.png\" alt=\"Prowess Logo\" style=\"width: 200px; margin-bottom: 0px;\">\n",
    "    </div>\n",
    "    <div style=\"flex: 0 0 auto; margin-left: auto; margin-bottom: 0; margin-top: 20px;\">\n",
    "        <img src=\"./pics/wildfire.png\" alt=\"WildFire Logo\" width=\"100\"/>\n",
    "    </div>\n",
    "</div>\n",
    "\n",
    "<h1 style=\"text-align: center; font-size: 48px; margin-top: 0;\">Fire-Ready Forests Data Challenge</h1>"
   ]
  },
  {
   "cell_type": "markdown",
   "id": "43cddd68-dbf7-40c0-a499-cb6d4d9fcdac",
   "metadata": {},
   "source": [
    "# Sprint 2 - Tasks 3-4\n",
    "\n",
    "**Team Name:** \n",
    "\n",
    "**Members:**\n",
    "\n",
    "- Member A\n",
    "- Member B\n",
    "- Member C\n",
    "\n",
    "Use this notebook to report your work for Sprint 2. Add code and markdown cells as needed to report your solutions.\n",
    "\n",
    "### Task 1\n",
    "\n",
    "Using the `tls-metrics.ipynb` notebook as a reference, compare the trees inventories of a site different than Independence Lake. What do you think are the main reasons for any discrepancies between the two treelists? Include at least 1 figure.  "
   ]
  },
  {
   "cell_type": "code",
   "execution_count": null,
   "id": "d5ef2f3a-8320-4197-81fb-8c3722bc026d",
   "metadata": {},
   "outputs": [],
   "source": [
    "# Task 1 - Your code here"
   ]
  },
  {
   "cell_type": "markdown",
   "id": "e6765cbe-2f3a-4f77-a0f1-1fd9cf228434",
   "metadata": {},
   "source": [
    "### Task 2\n",
    "\n",
    "Can you refine these predictions? Try using a Machine Learning approach to estimate key tree metrics such as diameter, species, and crown base height. This time, select a different site of interest and compare your results with field observations.\n",
    "\n",
    "In the example provided, we used the FastFuels treelist as the source for training data and compared the results against field-collected data. However, was this the best choice? As you approach this task, consider whether a different source—such as FIA data or the field-collected measurements—might serve as a more reliable training dataset. Think critically about the strengths and limitations of each dataset and justify your choice.\n",
    "\n",
    "The primary goal of this task is to give you hands-on experience with different methods for predicting tree metrics. There is no single correct answer—this is an open-ended exploration. However, we encourage you to:\n",
    "\n",
    "* Analyze correlations within your data\n",
    "* Identify patterns that influence tree metric predictions\n",
    "* Evaluate different training data sources to see which yields the most accurate estimates\n",
    "\n",
    "Don't just run a model—dig deep into the data and make informed decisions along the way."
   ]
  },
  {
   "cell_type": "code",
   "execution_count": null,
   "id": "3c5ec491-cd2c-4403-a2f8-6628c7d56856",
   "metadata": {},
   "outputs": [],
   "source": [
    "# Task 2 - Your code here"
   ]
  }
 ],
 "metadata": {
  "kernelspec": {
   "display_name": "Python 3 (ipykernel)",
   "language": "python",
   "name": "python3"
  },
  "language_info": {
   "codemirror_mode": {
    "name": "ipython",
    "version": 3
   },
   "file_extension": ".py",
   "mimetype": "text/x-python",
   "name": "python",
   "nbconvert_exporter": "python",
   "pygments_lexer": "ipython3",
   "version": "3.11.9"
  }
 },
 "nbformat": 4,
 "nbformat_minor": 5
}
