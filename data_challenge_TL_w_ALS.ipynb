{
 "cells": [
  {
   "cell_type": "markdown",
   "id": "0fe72352",
   "metadata": {},
   "source": [
    "<div style=\"display: flex; justify-content: space-between; align-items: center; margin-bottom: 40px; margin-top: 0;\">\n",
    "    <div style=\"flex: 0 0 auto; margin-left: 0; margin-bottom: 0; margin-top: 0;\">\n",
    "        <img src=\"./pics/UCSD Logo.png\" alt=\"UCSD Logo\" style=\"width: 179px; margin-bottom: 0px; margin-top: 20px;\">\n",
    "    </div>\n",
    "    <div style=\"flex: 0 0 auto; margin-left: auto; margin-bottom: 0; margin-top: 20px;\">\n",
    "        <img src=\"./pics/LANL-logo.png\" alt=\"LANL Logo\" style=\"width: 200px; margin-bottom: 0px;\">\n",
    "    </div>\n",
    "    <div style=\"flex: 0 0 auto; margin-left: auto; margin-bottom: 0; margin-top: 20px;\">\n",
    "        <img src=\"./pics/prowess.png\" alt=\"Prowess Logo\" style=\"width: 200px; margin-bottom: 0px;\">\n",
    "    </div>\n",
    "    <div style=\"flex: 0 0 auto; margin-left: auto; margin-bottom: 0; margin-top: 20px;\">\n",
    "        <img src=\"./pics/wildfire.png\" alt=\"WildFire Logo\" width=\"100\"/>\n",
    "    </div>\n",
    "</div>\n",
    "\n",
    "<h1 style=\"text-align: center; font-size: 48px; margin-top: 0;\">Fire-Ready Forests Data Challenge</h1>"
   ]
  },
  {
   "cell_type": "markdown",
   "id": "91a6245d-31c5-4685-811e-8b1c9b68c9ae",
   "metadata": {},
   "source": [
    "# Update treelist with ALS\n",
    "\n",
    "This notebook describes how to use the tree locations derived from ALS to put the trees in the correct location and predict the trees based on a given tree list using a simple random forest model\n",
    "\n",
    "Your task for this will be to replicate this code for each of the different sites of data that we have."
   ]
  },
  {
   "cell_type": "code",
   "execution_count": null,
   "id": "659db89a-07e4-47e3-bd91-59b5fa3fbbcd",
   "metadata": {},
   "outputs": [],
   "source": [
    "# import packages\n",
    "\n",
    "import geopandas as gpd\n",
    "import pandas as pd\n",
    "import matplotlib.pyplot as plt\n",
    "import numpy as np\n",
    "\n",
    "from sklearn.model_selection import train_test_split\n",
    "from sklearn.ensemble import RandomForestRegressor, RandomForestClassifier\n",
    "from sklearn.metrics import classification_report, confusion_matrix, ConfusionMatrixDisplay"
   ]
  },
  {
   "cell_type": "code",
   "execution_count": null,
   "id": "e089362b-c7a6-4d23-8f86-015a1491645a",
   "metadata": {},
   "outputs": [],
   "source": [
    "# Load the detected trees from the ALS data and the fast fuels treelist\n",
    "\n",
    "ALS_treetops = pd.read_csv('data/ALS_treetops.csv')\n",
    "FF_treelist = pd.read_csv('FF_treelist_all.csv') # This assumes you did not change the path in the previous notebook\n",
    "fia_ref_species_table = pd.read_csv('data/REF_SPECIES.csv')"
   ]
  },
  {
   "cell_type": "code",
   "execution_count": null,
   "id": "f1eb7baf-f1db-4664-bab8-8e5e97f900a1",
   "metadata": {},
   "outputs": [],
   "source": [
    "ALS_treetops.head()"
   ]
  },
  {
   "cell_type": "code",
   "execution_count": null,
   "id": "6653d57d-b81e-4a82-9f95-bb92ea3093dd",
   "metadata": {},
   "outputs": [],
   "source": [
    "FF_treelist.head()"
   ]
  },
  {
   "cell_type": "code",
   "execution_count": null,
   "id": "d372e6fc-c47e-4b65-abd4-032020b85530",
   "metadata": {},
   "outputs": [],
   "source": [
    "# let's look specifically at Independence Lake\n",
    "# site_shortname = ['ind', 'SHA', 'SDR', 'win', 'puc', 'tcu']\n",
    "site_name = 'ind'"
   ]
  },
  {
   "cell_type": "code",
   "execution_count": null,
   "id": "d9286e6d-c690-4968-999c-597213e26b70",
   "metadata": {
    "scrolled": true
   },
   "outputs": [],
   "source": [
    "ALS_treetops_filter = ALS_treetops[ALS_treetops.site_name == site_name]\n",
    "FF_treelist_filter = FF_treelist[FF_treelist.site_name == site_name]\n",
    "\n",
    "# rename the height column for the ALS file\n",
    "ALS_treetops_filter = ALS_treetops_filter.rename(columns = {'height_m': 'HT'})\n",
    "\n",
    "\n",
    "#now turn into geodataframe\n",
    "\n",
    "ALS_treetops_gdf = gpd.GeoDataFrame(ALS_treetops_filter, \n",
    "                                    geometry = gpd.points_from_xy(ALS_treetops_filter.X_4326, ALS_treetops_filter.Y_4326), \n",
    "                                    crs = 4326)\n",
    "# treelist = gpd.GeoDataFrame(FF_treelist_filter, \n",
    "#                                    geometry = gpd.points_from_xy(FF_treelist_filter.X_4326, FF_treelist_filter.Y_4326), \n",
    "#                                    crs = 4326)\n",
    "\n",
    "treelist = FF_treelist_filter\n",
    "\n",
    "#first we need to rename one of our variables\n"
   ]
  },
  {
   "cell_type": "markdown",
   "id": "14b2688a-c83d-42a5-a680-b028a6c8e380",
   "metadata": {},
   "source": [
    "The ALS treelist gives us the location and height of the trees, but does not give us all the tree information that we want (including the diameter, species, and crown base height). In this notebook, we will look at how we can use a tree list to predict these tree metrics using a simple random forest model. In this case, we will be using the tree list from the fast fuels algorithm, but it will be your task to modify this notebook to take in another tree list as the training data for the model (for example, the field data tree list)."
   ]
  },
  {
   "cell_type": "markdown",
   "id": "998e77c2-a0ca-4ff6-8867-c61f5f4b4c6c",
   "metadata": {},
   "source": [
    "We will train a different model for each variable that we are interested in predicting. \n",
    "This means that we will have a model to predict diameter from height, a second model to predict species from height, and a third model to predict crown base height from total height."
   ]
  },
  {
   "cell_type": "markdown",
   "id": "d2ebb70d-daf9-4069-92ac-c7ada1bed56d",
   "metadata": {},
   "source": [
    "## Diameter from height\n",
    "\n",
    "Our first random forest model will take in height (HT) as input and produce diameter (DIA) as output."
   ]
  },
  {
   "cell_type": "code",
   "execution_count": null,
   "id": "d11d35ec-a531-4816-8bb8-029e94ec1bd3",
   "metadata": {},
   "outputs": [],
   "source": [
    "# Split into training and test sets\n",
    "independent_variables = [\"HT\"]\n",
    "dependent_variable = \"DIA\"\n",
    "include_variables = independent_variables + [dependent_variable]\n",
    "trees_train, trees_test = train_test_split(treelist[include_variables].dropna(), test_size=0.2)\n",
    "print(f\"Training set size: {len(trees_train)}\")\n",
    "print(f\"Test set size: {len(trees_test)}\")"
   ]
  },
  {
   "cell_type": "code",
   "execution_count": null,
   "id": "28be6be8-73ea-4671-842e-8570b4bbdd28",
   "metadata": {},
   "outputs": [],
   "source": [
    "# Train the model\n",
    "model_ht = RandomForestRegressor()\n",
    "model_ht.fit(trees_train[independent_variables], trees_train[dependent_variable])\n",
    "\n",
    "# Predict the model\n",
    "predicted_dbh_test = model_ht.predict(trees_test[independent_variables])\n",
    "predicted_dbh = model_ht.predict(ALS_treetops_filter[independent_variables])\n",
    "\n",
    "# Compute R^2 and RMSE using the test set\n",
    "print(f\"Model R^2: {model_ht.score(trees_test[independent_variables], trees_test[dependent_variable]):.2f}\")\n",
    "print(f\"Model RMSE: {((model_ht.predict(trees_test[independent_variables]) - trees_test[dependent_variable])**2).mean()**0.5:.2f} inches\")\n",
    "\n",
    "\n",
    "# Compare the predicted diameter to the actual diameter.\n",
    "fig, ax = plt.subplots()\n",
    "trees_test[\"predicted_diameter\"] = predicted_dbh_test\n",
    "trees_test.plot.scatter(x=\"DIA\", y=\"predicted_diameter\", ax=ax)\n",
    "upper_dia_limit = max(trees_test[\"DIA\"].max(), trees_test[\"predicted_diameter\"].max()) + 1\n",
    "ax.plot([0, upper_dia_limit], [0, upper_dia_limit], color='red')\n",
    "ax.set_xlabel(\"Actual Diameter (cm)\")\n",
    "ax.set_ylabel(\"Predicted Diameter (cm)\")\n",
    "ax.set_title(\"Validation Data Diameter Prediction\")\n",
    "plt.show()"
   ]
  },
  {
   "cell_type": "markdown",
   "id": "1e6f6b90-eb38-40dd-94a8-39862631c8c6",
   "metadata": {},
   "source": [
    "That's pretty good for a simple model! Accuracy decreases as diameter increases, but up to around 30 inches it is quite accurate. It may be worth investigating approaches for outlier detection and removal. For example, maybe we can improve model performance by only considering diameter estimates in a certain range. Consider investigating the diameter range of the validation data to further constrain the problem.\n",
    "\n",
    "Next, let's use our new model to predict the diameters using the heights we observed from the ALS LIDAR data."
   ]
  },
  {
   "cell_type": "code",
   "execution_count": null,
   "id": "7f7ac31b-254a-4c9a-8dcb-6dc9acf67057",
   "metadata": {},
   "outputs": [],
   "source": [
    "# User our new model to predict the diameter of the trees detected in the ALS data\n",
    "\n",
    "ALS_treetops_filter[\"predicted_diameter\"] = predicted_dbh"
   ]
  },
  {
   "cell_type": "code",
   "execution_count": null,
   "id": "f7a6f97c-dd94-43d5-8c4d-2272ea2dca20",
   "metadata": {},
   "outputs": [],
   "source": [
    "# Plot the predicted diameter\n",
    "fig, ax = plt.subplots()\n",
    "ALS_treetops_filter.plot.scatter(x=\"HT\", y=\"predicted_diameter\", ax=ax)\n",
    "ax.set_xlabel(\"Height (m)\")\n",
    "ax.set_ylabel(\"Predicted Diameter (cm)\")\n",
    "ax.set_title(\"Independence Lake Tree Diameter Prediction\")\n",
    "plt.show()"
   ]
  },
  {
   "cell_type": "markdown",
   "id": "d6de6e3e-650c-43f5-ade4-21ff6eeb2121",
   "metadata": {},
   "source": [
    "### SPCD (Species code) from height\n",
    "\n",
    "Species code, or SPCD, is a numeric identifier for tree species across the United States. Tree species is an enormously important characteristic for making predictions about tree biomass, carbon content, size, and more. Unfortunately, we don't learn tree species from the ALS acquistion data so we want to try and predict it using a model trained on FIA data. In this example, we train a simple random forest classifer to predict trees species based just on the height of the tree. Let's see how well this simple model performs."
   ]
  },
  {
   "cell_type": "code",
   "execution_count": null,
   "id": "e08e13d9-fb0f-4a58-bbd8-7844c9876158",
   "metadata": {},
   "outputs": [],
   "source": [
    "# Create a dictionary mapping SPCD to COMMON_NAME\n",
    "spcd_to_common_name = dict(zip(fia_ref_species_table['SPCD'], fia_ref_species_table['COMMON_NAME']))"
   ]
  },
  {
   "cell_type": "code",
   "execution_count": null,
   "id": "c9ce89a2-fd08-4671-b80c-8681db6b3b67",
   "metadata": {},
   "outputs": [],
   "source": [
    "# Split into training and test sets\n",
    "independent_variables = [\"HT\"]\n",
    "dependent_variable = \"SPCD\"\n",
    "include_variables = independent_variables + [dependent_variable]\n",
    "trees_train, trees_test = train_test_split(treelist[include_variables].dropna(), test_size=0.2)\n",
    "print(f\"Training set size: {len(trees_train)}\")\n",
    "print(f\"Test set size: {len(trees_test)}\")\n",
    "\n",
    "# Train the model\n",
    "model_spcd = RandomForestClassifier()\n",
    "model_spcd.fit(trees_train[independent_variables], trees_train[dependent_variable])\n",
    "\n",
    "# Predict the model\n",
    "predicted_spcd_test = model_spcd.predict(trees_test[independent_variables])\n",
    "predicted_spcd = model_spcd.predict(ALS_treetops_filter[independent_variables])\n",
    "\n",
    "\n",
    "# Evaluate classification accuracy\n",
    "unique_species = sorted(trees_test[dependent_variable].unique())\n",
    "species_names = [spcd_to_common_name.get(spcd, f\"Unknown ({spcd})\") for spcd in unique_species]\n",
    "report = classification_report(trees_test[dependent_variable], predicted_spcd_test, zero_division=0, target_names=species_names)\n",
    "print(report)"
   ]
  },
  {
   "cell_type": "code",
   "execution_count": null,
   "id": "1de06ff5-e8ed-4627-8c01-7df308155ce1",
   "metadata": {},
   "outputs": [],
   "source": [
    "cm = confusion_matrix(trees_test[dependent_variable], predicted_spcd_test)\n",
    "display = ConfusionMatrixDisplay(cm, display_labels=species_names)\n",
    "display.plot(cmap='Blues', values_format='d')\n",
    "plt.xticks(rotation=90, ha='right')\n",
    "plt.show()"
   ]
  },
  {
   "cell_type": "markdown",
   "id": "23c7ce26-f94a-4a17-b6cd-3d7ab002b384",
   "metadata": {},
   "source": [
    "It looks like the confusion matrix has identified some common areas of confusion for our model. \n",
    "\n",
    "The model frequently predicts lodgepole pine for different conifer trees including Ponderosa Pine, California red fir, and white fir, among other fir and pine species.\n",
    "\n",
    "What can we do to our model to improve predictions? Are there additional variables that you can think of that would help with the prediction?"
   ]
  },
  {
   "cell_type": "markdown",
   "id": "b95030dc-77b5-4199-abdc-303fd5dba3ce",
   "metadata": {},
   "source": [
    "\n",
    "### Crown Base Height (CBH) from Height\n",
    "\n",
    "Crown base height (CBH), sometimes called live crown base height, is a measurment of how far above the ground the crown of the tree is. You can think of this as if you stood under a tree and stretched and stretched until your fingertips touch leaves or needles. How far you have to stretch (including your Go-Go-Gadget arm extenders) is the crown base height. \n",
    "\n",
    "Like species code, this is an important measurement because it tells us things like how likely a fire is to move from the surface into the tree, or how much foliage is in the crown. However, also like species code, we can't learn this from the ALS data and it is a difficult thing to predict. But, let's start simple and train a random forest model to predict crown base height just from the height of the tree."
   ]
  },
  {
   "cell_type": "code",
   "execution_count": null,
   "id": "296947ad-7a5b-4771-b905-bd026a366fde",
   "metadata": {},
   "outputs": [],
   "source": [
    "# Split into training and test sets\n",
    "# treelist[\"CBH\"] = treelist[\"HT\"] * (1 - treelist[\"CR\"] / 100) #use this if CBH isn't included already\n",
    "independent_variables = \"HT\"\n",
    "dependent_variable = \"CBH\"\n",
    "include_variables = independent_variables + dependent_variable\n",
    "trees_train, trees_test = train_test_split(treelist[['HT', 'CBH']].dropna(), test_size=0.1)\n",
    "print(f\"Training set size: {len(trees_train)}\")\n",
    "print(f\"Test set size: {len(trees_test)}\")\n",
    "\n",
    "# Train the model\n",
    "model_cbh = RandomForestRegressor()\n",
    "model_cbh.fit(trees_train[[independent_variables]], trees_train[dependent_variable])\n",
    "\n",
    "# predict the model\n",
    "predicted_cbh_test = model_cbh.predict(trees_test[[independent_variables]])\n",
    "predicted_cbh = model_cbh.predict(ALS_treetops_filter[[independent_variables]])\n",
    "\n",
    "# Evaluate model performance\n",
    "print()\n",
    "print(f\"Model R^2: {model_cbh.score(trees_test[[independent_variables]], trees_test[dependent_variable]):.2f}\")\n",
    "print(f\"Model RMSE: {((model_cbh.predict(trees_test[[independent_variables]]) - trees_test[dependent_variable])**2).mean()**0.5:.2f} feet\")\n",
    "\n",
    "# Compare the predicted CBH to the actual CBH.\n",
    "fig, ax = plt.subplots()\n",
    "trees_test[\"predicted_cbh\"] = predicted_cbh_test\n",
    "trees_test.plot.scatter(x=\"CBH\", y=\"predicted_cbh\", ax=ax)\n",
    "upper_cbh_limit = max(trees_test[\"CBH\"].max(), trees_test[\"predicted_cbh\"].max()) + 1\n",
    "ax.plot([0, upper_cbh_limit], [0, upper_cbh_limit], color='red')\n",
    "ax.set_xlabel(\"Actual CBH (m)\")\n",
    "ax.set_ylabel(\"Predicted CBH (m)\")\n",
    "plt.show()"
   ]
  },
  {
   "cell_type": "markdown",
   "id": "f45d5c97-5073-497b-ac37-65f855a7dbdc",
   "metadata": {},
   "source": [
    "Note that live crown base height is often impacted by things like light availability, neighboring trees, and other landscape characteristics. "
   ]
  },
  {
   "cell_type": "code",
   "execution_count": null,
   "id": "b45f339a-6890-4248-b5e0-c15092b7d68d",
   "metadata": {},
   "outputs": [],
   "source": [
    "# save the predictions for tree metrics as a new treelist\n",
    "predicted_treelist = pd.DataFrame({'treeID': ALS_treetops_filter.treeID,\n",
    "                                   'HT': ALS_treetops_filter.HT,\n",
    "                                   'DIA': predicted_dbh,\n",
    "                                   'SPCD': predicted_spcd,\n",
    "                                   'CBH': predicted_cbh,\n",
    "                                   'X_4326': ALS_treetops_filter.X_4326,\n",
    "                                   'Y_4326': ALS_treetops_filter.Y_4326,\n",
    "                                  })\n",
    "\n",
    "# predicted_treelist.to_csv('predicted_treelist.csv')"
   ]
  },
  {
   "cell_type": "code",
   "execution_count": null,
   "id": "8344916f-0869-4586-9298-8995ddf41bd2",
   "metadata": {},
   "outputs": [],
   "source": [
    "predicted_treelist.head()"
   ]
  },
  {
   "cell_type": "markdown",
   "id": "ed74211d-27b0-443d-a316-08223191210f",
   "metadata": {},
   "source": [
    "## Compare your results between the predicted treelist and the field data\n",
    "\n",
    "Compare your results."
   ]
  },
  {
   "cell_type": "code",
   "execution_count": null,
   "id": "a8bae84a-fe2a-4033-a632-cf3a2491990f",
   "metadata": {},
   "outputs": [],
   "source": [
    "plots_df = pd.read_csv('data/01_plot_identification.csv')\n",
    "\n",
    "plots_df.head()"
   ]
  },
  {
   "cell_type": "code",
   "execution_count": null,
   "id": "52443229-5e58-4d37-b17b-a3dfbeb5aa3c",
   "metadata": {},
   "outputs": [],
   "source": [
    "plots_intermediate = []\n",
    "for srs in np.unique(plots_df.plot_coord_srs):\n",
    "    plots_subset = plots_df[plots_df.plot_coord_srs == srs]\n",
    "    plots_subset_gdf = gpd.GeoDataFrame(plots_subset, \n",
    "                                   geometry = gpd.points_from_xy(plots_subset.plot_coord_x, plots_subset.plot_coord_y), \n",
    "                                   crs = srs)\n",
    "\n",
    "    #reproject to EPSG 5070\n",
    "    plots_subset_gdf = plots_subset_gdf.to_crs(5070)\n",
    "    \n",
    "    plots_intermediate.append(plots_subset_gdf)\n",
    "\n",
    "plots_gdf = pd.concat(plots_intermediate)\n",
    "plots_gdf = plots_gdf.dropna(subset = 'plot_blk')"
   ]
  },
  {
   "cell_type": "code",
   "execution_count": null,
   "id": "37cb990f-556b-4a8f-a8a0-618ed0ad5062",
   "metadata": {},
   "outputs": [],
   "source": [
    "#buffer the plots to get 1/10 acre plots\n",
    "import numpy as np\n",
    "\n",
    "plot_size = 1/10 #acre\n",
    "acre_to_m2 = 4046.86\n",
    "plot_size_m2 = plot_size * acre_to_m2\n",
    "plot_radius = np.sqrt(plot_size_m2/np.pi)\n",
    "\n",
    "plots_gdf = plots_gdf.set_geometry(plots_gdf.buffer(plot_radius))"
   ]
  },
  {
   "cell_type": "code",
   "execution_count": null,
   "id": "9ef4a10f-ca03-4719-89a9-6e4b86e4d796",
   "metadata": {},
   "outputs": [],
   "source": [
    "# filter the plot using the site name\n",
    "plots_filtered = plots_gdf[plots_gdf.site_name == site_name]"
   ]
  },
  {
   "cell_type": "code",
   "execution_count": null,
   "id": "d6967b2d-f37b-459c-b4ef-7d0ba9056727",
   "metadata": {},
   "outputs": [],
   "source": [
    "plots_filtered.plot()\n",
    "plt.title(f'Plots at {site_name}')\n",
    "plt.xlabel('X (meters)')\n",
    "plt.ylabel('Y (meters)')"
   ]
  },
  {
   "cell_type": "markdown",
   "id": "a6e57d54-c849-4325-93a9-6024fa50fc6c",
   "metadata": {},
   "source": [
    "Now we will use spatial join to get the predicted trees for each plot\n"
   ]
  },
  {
   "cell_type": "code",
   "execution_count": null,
   "id": "29850116-bb73-4e91-833c-190baad252dc",
   "metadata": {},
   "outputs": [],
   "source": [
    "# first we need to convert the predicted treelist from a dataframe to a geodataframe\n",
    "\n",
    "predicted_treelist_gdf = gpd.GeoDataFrame(predicted_treelist, \n",
    "                                          geometry = gpd.points_from_xy(predicted_treelist.X_4326, predicted_treelist.Y_4326),\n",
    "                                          crs = 4326)\n",
    "\n",
    "# now convert predicted_treelist_gdf to the same crs as the plots\n",
    "\n",
    "predicted_treelist_gdf = predicted_treelist_gdf.to_crs(plots_filtered.crs)\n",
    "\n",
    "# Spatial join\n",
    "\n",
    "predicted_treelist_plots = predicted_treelist_gdf.sjoin(plots_filtered)\n",
    "\n",
    "predicted_treelist_plots.head()                                                                       "
   ]
  },
  {
   "cell_type": "code",
   "execution_count": null,
   "id": "a5341a68-2fb9-4439-be27-5c80cd470d8e",
   "metadata": {},
   "outputs": [],
   "source": [
    "# the plot names\n",
    "\n",
    "plot_names = np.unique(predicted_treelist_plots.inventory_id)\n",
    "print(plot_names)"
   ]
  },
  {
   "cell_type": "markdown",
   "id": "677087ec-fab4-41c9-a409-946e3008a3ae",
   "metadata": {},
   "source": [
    "Let's compare the treelists to the field data"
   ]
  },
  {
   "cell_type": "code",
   "execution_count": null,
   "id": "7b65a72f-7a49-4e49-896a-4701a12aac57",
   "metadata": {},
   "outputs": [],
   "source": [
    "field_data_trees = pd.read_csv('data/03_tree.csv')"
   ]
  },
  {
   "cell_type": "code",
   "execution_count": null,
   "id": "48401c85-fcd4-4907-8ea4-781ec83f8ab6",
   "metadata": {},
   "outputs": [],
   "source": [
    "# Filter the trees by plot name\n",
    "plot_id = 0\n",
    "trees_filtered = field_data_trees[field_data_trees.inventory_id == plot_names[plot_id]]\n",
    "\n",
    "trees_filtered.head()"
   ]
  },
  {
   "cell_type": "code",
   "execution_count": null,
   "id": "22022707-b6cf-4114-9020-19a246c0bae0",
   "metadata": {},
   "outputs": [],
   "source": [
    "predicted_treelist_filtered = predicted_treelist_plots[predicted_treelist_plots.inventory_id == plot_names[plot_id]]\n",
    "predicted_treelist_filtered.head()"
   ]
  }
 ],
 "metadata": {
  "kernelspec": {
   "display_name": "Python 3 (ipykernel)",
   "language": "python",
   "name": "python3"
  },
  "language_info": {
   "codemirror_mode": {
    "name": "ipython",
    "version": 3
   },
   "file_extension": ".py",
   "mimetype": "text/x-python",
   "name": "python",
   "nbconvert_exporter": "python",
   "pygments_lexer": "ipython3",
   "version": "3.11.9"
  }
 },
 "nbformat": 4,
 "nbformat_minor": 5
}
